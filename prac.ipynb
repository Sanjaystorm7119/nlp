{
 "cells": [
  {
   "cell_type": "code",
   "execution_count": 12,
   "id": "afbeeb58",
   "metadata": {},
   "outputs": [
    {
     "data": {
      "text/plain": [
       "-38.77777777777778"
      ]
     },
     "execution_count": 12,
     "metadata": {},
     "output_type": "execute_result"
    }
   ],
   "source": [
    "def tempConvert(temp,unit):\n",
    "    if unit in ['C','c']:\n",
    "        return temp * 9/5 +32\n",
    "    elif unit in [\"F\",\"f\"]:\n",
    "        return (temp-32)*5/9\n",
    "\n",
    "tempConvert(-37.8,\"f\")\n"
   ]
  },
  {
   "cell_type": "code",
   "execution_count": 19,
   "id": "77189a18",
   "metadata": {},
   "outputs": [
    {
     "name": "stdout",
     "output_type": "stream",
     "text": [
      "0 1 1 2 3 5\n"
     ]
    }
   ],
   "source": [
    "\n",
    "def fib(n):\n",
    "    a,b=0,1\n",
    "    for _ in range(n):\n",
    "        print(a, end=' ')\n",
    "        a,b=b,a+b\n",
    "    return a\n",
    "print(fib(5))\n"
   ]
  },
  {
   "cell_type": "code",
   "execution_count": 25,
   "id": "c963c1a1",
   "metadata": {},
   "outputs": [
    {
     "name": "stdout",
     "output_type": "stream",
     "text": [
      "4\n",
      "True\n",
      "6\n"
     ]
    }
   ],
   "source": [
    "#lambda\n",
    "square = lambda x:x*x\n",
    "print(square(2))\n",
    "\n",
    "even = lambda x: x%2==0\n",
    "print(even(4))\n",
    "\n",
    "add = lambda *a:sum(a)\n",
    "print(add(1,2,3))"
   ]
  },
  {
   "cell_type": "code",
   "execution_count": 41,
   "id": "0a6bab9c",
   "metadata": {},
   "outputs": [
    {
     "name": "stdout",
     "output_type": "stream",
     "text": [
      "[1, 4, 9, 16, 25, 36, 4]\n",
      "[1, 4, 9, 16, 25, 36, 4]\n",
      "[2, 4, 6, 8, 10, 12, 9]\n"
     ]
    }
   ],
   "source": [
    "list1 = [1,2,3,4,5,6,2]\n",
    "mylist1 = [1,2,3,4,5,6,7,8]\n",
    "\n",
    "def sq(n):\n",
    "    return n*n\n",
    "print(list(map(sq,list1)))\n",
    "print(list(map(lambda x:x**2,list1)))\n",
    "print(list(map(lambda x,y:x+y,list1,mylist1)))\n"
   ]
  },
  {
   "cell_type": "code",
   "execution_count": 19,
   "id": "c0bcf29f",
   "metadata": {},
   "outputs": [
    {
     "name": "stdout",
     "output_type": "stream",
     "text": [
      "hellohellohellohello\n",
      "hello\n",
      "hello\n",
      "hello\n",
      "\n"
     ]
    }
   ],
   "source": [
    "with open('file.txt','a+') as file:\n",
    "    file.seek(0) #move cursor to start\n",
    "    # content = file.read()\n",
    "    file.write(\"hello\\n\")\n",
    "    file.seek(0) #move cursor to start\n",
    "    content = file.read()\n",
    "\n",
    "\n",
    "print(content)"
   ]
  },
  {
   "cell_type": "code",
   "execution_count": 20,
   "id": "697f71e8",
   "metadata": {},
   "outputs": [
    {
     "name": "stdout",
     "output_type": "stream",
     "text": [
      "division by zero\n"
     ]
    }
   ],
   "source": [
    "try:\n",
    "    res = 1/0\n",
    "except Exception as err:\n",
    "    print(err)"
   ]
  },
  {
   "cell_type": "code",
   "execution_count": 24,
   "id": "08496874",
   "metadata": {},
   "outputs": [
    {
     "name": "stdout",
     "output_type": "stream",
     "text": [
      "invalid literal for int() with base 10: 'sanjay'\n"
     ]
    }
   ],
   "source": [
    "try:\n",
    "    strnum = int(\"sanjay\")\n",
    "    print(strnum)\n",
    "except Exception as err:\n",
    "    print(err)"
   ]
  },
  {
   "cell_type": "code",
   "execution_count": 39,
   "id": "919754ae",
   "metadata": {},
   "outputs": [
    {
     "name": "stdout",
     "output_type": "stream",
     "text": [
      "[2, 4, 6]\n"
     ]
    }
   ],
   "source": [
    "mylist = [1,2,3,4,5,6]\n",
    "print(list(filter(lambda x:x%2==0,mylist)))"
   ]
  },
  {
   "cell_type": "code",
   "execution_count": 42,
   "id": "d1767d4d",
   "metadata": {},
   "outputs": [],
   "source": [
    "import os\n",
    "open(\"file.txt\",\"+a\").close()"
   ]
  },
  {
   "cell_type": "code",
   "execution_count": 53,
   "id": "5b935c76",
   "metadata": {},
   "outputs": [
    {
     "name": "stdout",
     "output_type": "stream",
     "text": [
      "hellohellodsdhellohellohellohello\n"
     ]
    }
   ],
   "source": [
    "with open('file.txt', 'r') as file:\n",
    "    content = file.read()\n",
    "    print(content)\n"
   ]
  },
  {
   "cell_type": "code",
   "execution_count": null,
   "id": "d59686fa",
   "metadata": {},
   "outputs": [
    {
     "name": "stdout",
     "output_type": "stream",
     "text": [
      "5\n"
     ]
    }
   ],
   "source": [
    "with open('file.txt', 'a+') as file:\n",
    "    content=file.write(\"hello\")\n",
    "    print(content)"
   ]
  }
 ],
 "metadata": {
  "kernelspec": {
   "display_name": "base",
   "language": "python",
   "name": "python3"
  },
  "language_info": {
   "codemirror_mode": {
    "name": "ipython",
    "version": 3
   },
   "file_extension": ".py",
   "mimetype": "text/x-python",
   "name": "python",
   "nbconvert_exporter": "python",
   "pygments_lexer": "ipython3",
   "version": "3.12.7"
  }
 },
 "nbformat": 4,
 "nbformat_minor": 5
}
