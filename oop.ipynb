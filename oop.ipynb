{
 "cells": [
  {
   "cell_type": "markdown",
   "id": "ada57803",
   "metadata": {},
   "source": [
    "##class is a blueprint of object and has attributes , methods"
   ]
  },
  {
   "cell_type": "code",
   "execution_count": null,
   "id": "7993c974",
   "metadata": {},
   "outputs": [
    {
     "name": "stdout",
     "output_type": "stream",
     "text": [
      "<class '__main__.Car'>\n",
      "<__main__.Car object at 0x0000026C7DEAE6C0>\n"
     ]
    }
   ],
   "source": [
    "class Car:\n",
    "    pass\n",
    "bmw = Car()\n",
    "print(type(bmw))\n",
    "print(bmw)\n"
   ]
  },
  {
   "cell_type": "code",
   "execution_count": null,
   "id": "98ce6f1c",
   "metadata": {},
   "outputs": [
    {
     "name": "stdout",
     "output_type": "stream",
     "text": [
      "4\n"
     ]
    }
   ],
   "source": [
    "#instance var and methods\n",
    "class Dog:\n",
    "    def __init__(self,legs,age):\n",
    "        self.legs=legs #self.name, self.age is instance var\n",
    "        self.age=age\n",
    "        pass\n",
    "dog=Dog(4,4)\n",
    "print(dog.age)"
   ]
  },
  {
   "cell_type": "code",
   "execution_count": 12,
   "id": "38f3b1c0",
   "metadata": {},
   "outputs": [
    {
     "name": "stdout",
     "output_type": "stream",
     "text": [
      "lucy says meow\n"
     ]
    }
   ],
   "source": [
    "class Cat:\n",
    "    def __init__(self,name,age):\n",
    "        self.name=name\n",
    "        self.age=age\n",
    "        pass\n",
    "    def meow(self):\n",
    "        print(f\"{self.name} says meow\")\n",
    "cat1=Cat(\"lucy\",4)\n",
    "cat1.meow()\n"
   ]
  },
  {
   "cell_type": "code",
   "execution_count": null,
   "id": "3fe5fd1c",
   "metadata": {},
   "outputs": [
    {
     "name": "stdout",
     "output_type": "stream",
     "text": [
      "100\n"
     ]
    }
   ],
   "source": [
    "##bank model\n",
    "class Bank:\n",
    "    def __init__(self,owner,balance=0):\n",
    "        self.owner=owner\n",
    "        self.balance=balance\n",
    "        pass\n",
    "    def deposit(self,amount):\n",
    "        self.balance+=amount\n",
    "        print(f\"{amount} amount deposited , new bal is {self.balance}\")\n",
    "    \n",
    "    def withdraw(self,amount):\n",
    "        if amount>self.balance:\n",
    "            print(\"insufficient\")\n",
    "        else:\n",
    "            self.balance-=amount\n",
    "        print(f\"{amount} amount withdrawn , new bal is {self.balance}\")\n",
    "    \n",
    "    def get_balance(self):\n",
    "        return self.balance\n",
    "    \n",
    "account = Bank(\"jay\",100)\n",
    "print(account.balance)\n"
   ]
  },
  {
   "cell_type": "code",
   "execution_count": null,
   "id": "b6d1fef5",
   "metadata": {},
   "outputs": [
    {
     "name": "stdout",
     "output_type": "stream",
     "text": [
      "100 amount deposited , new bal is 200\n"
     ]
    }
   ],
   "source": [
    "account.deposit(100)"
   ]
  },
  {
   "cell_type": "code",
   "execution_count": 15,
   "id": "1671e17d",
   "metadata": {},
   "outputs": [
    {
     "name": "stdout",
     "output_type": "stream",
     "text": [
      "50 amount withdrawn , new bal is 150\n"
     ]
    }
   ],
   "source": [
    "account.withdraw(50)"
   ]
  }
 ],
 "metadata": {
  "kernelspec": {
   "display_name": "base",
   "language": "python",
   "name": "python3"
  },
  "language_info": {
   "codemirror_mode": {
    "name": "ipython",
    "version": 3
   },
   "file_extension": ".py",
   "mimetype": "text/x-python",
   "name": "python",
   "nbconvert_exporter": "python",
   "pygments_lexer": "ipython3",
   "version": "3.12.7"
  }
 },
 "nbformat": 4,
 "nbformat_minor": 5
}
