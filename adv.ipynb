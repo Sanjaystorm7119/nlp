{
 "cells": [
  {
   "cell_type": "code",
   "execution_count": 3,
   "id": "43729030",
   "metadata": {},
   "outputs": [
    {
     "name": "stdout",
     "output_type": "stream",
     "text": [
      "{2: 4}\n",
      "{1: 1, 3: 9}\n"
     ]
    }
   ],
   "source": [
    "def add_to_dict(a, b={}):\n",
    "    \n",
    "    b[a] = a**2\n",
    "    return b\n",
    "\n",
    "# Test\n",
    "print(add_to_dict(2))  # {2: 4}\n",
    "print(add_to_dict(3, {1: 1}))  # {1: 1, 3: 9}"
   ]
  },
  {
   "cell_type": "code",
   "execution_count": null,
   "id": "07743c37",
   "metadata": {},
   "outputs": [
    {
     "name": "stdout",
     "output_type": "stream",
     "text": [
      "{'a': 1, 'b': 2}\n"
     ]
    }
   ],
   "source": [
    "def intval(**dict):\n",
    "    return {key:value for key,value in dict.items() if isinstance(value,int)}\n",
    "res=intval({\"a\":1,\"b\":2,\"c\":\"c\",\"d\":\"d\"})\n",
    "print(res)"
   ]
  },
  {
   "cell_type": "code",
   "execution_count": null,
   "id": "72c3aed6",
   "metadata": {},
   "outputs": [],
   "source": [
    "def intval(d):\n",
    "    return {key: value for key, value in d.items() if isinstance(value, int)}\n",
    "\n",
    "# Example usage:\n",
    "result = intval({\"a\": 1, \"b\": 2, \"c\": \"c\", \"d\": \"d\"})\n",
    "print(result)  # Output: {'a': 1, 'b': 2}\n"
   ]
  }
 ],
 "metadata": {
  "kernelspec": {
   "display_name": "base",
   "language": "python",
   "name": "python3"
  },
  "language_info": {
   "codemirror_mode": {
    "name": "ipython",
    "version": 3
   },
   "file_extension": ".py",
   "mimetype": "text/x-python",
   "name": "python",
   "nbconvert_exporter": "python",
   "pygments_lexer": "ipython3",
   "version": "3.12.7"
  }
 },
 "nbformat": 4,
 "nbformat_minor": 5
}
